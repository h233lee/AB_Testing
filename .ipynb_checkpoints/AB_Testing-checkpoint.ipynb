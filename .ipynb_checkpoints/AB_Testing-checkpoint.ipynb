{
 "cells": [
  {
   "cell_type": "markdown",
   "metadata": {},
   "source": [
    "For this project, we are going to make up a scenario where a website is considering changing their top banner in their website.\n",
    "\n",
    "![](Example.png)\n",
    "\n",
    "After some time, the engineering team was able to retrieve data for both the control and experiment. Here, we will explore their statisical significance"
   ]
  },
  {
   "cell_type": "markdown",
   "metadata": {},
   "source": [
    "|groups|conversion|n|average time spent|\n",
    "|-|-|-|-|\n",
    "|A|33|1005|60s|\n",
    "|B|56|1010|64s|"
   ]
  },
  {
   "cell_type": "code",
   "execution_count": 1,
   "metadata": {},
   "outputs": [
    {
     "name": "stdout",
     "output_type": "stream",
     "text": [
      "The probability of Group A converting to a membership is: 0.03283582089552239\n",
      "The probability of Group B converting to a membership is: 0.055445544554455446\n"
     ]
    }
   ],
   "source": [
    "#Import libraries\n",
    "import numpy as np\n",
    "import pandas as pd \n",
    "import scipy.stats as scs\n",
    "import matplotlib.pyplot as plt\n",
    "\n",
    "%matplotlib inline\n",
    "\n",
    "n_A = 1005\n",
    "n_B = 1010\n",
    "cr_A = 33/1005 #Conversion rate\n",
    "cr_B = 56/1010\n",
    "\n",
    "print('The probability of Group A converting to a membership is: {0}'.format(cr_A))\n",
    "print('The probability of Group B converting to a membership is: {0}'.format(cr_B))"
   ]
  },
  {
   "cell_type": "markdown",
   "metadata": {},
   "source": [
    "Here, we first see that Group B already had a higher mean of conversion to signing up. However, this is not enough evidence to conclude that we should make the change to the website. We will dig into if this was by chance or not."
   ]
  },
  {
   "cell_type": "code",
   "execution_count": 2,
   "metadata": {},
   "outputs": [],
   "source": [
    "converted_total = n_A*cr_A + n_B*cr_B\n",
    "\n",
    "x = np.linspace(converted_total-89,converted_total+10,100)\n",
    "\n",
    "rv_A = scs.binom.pmf(x,n_A, cr_A)\n",
    "rv_B = scs.binom.pmf(x,n_B, cr_B)"
   ]
  },
  {
   "cell_type": "code",
   "execution_count": 3,
   "metadata": {},
   "outputs": [
    {
     "data": {
      "text/plain": [
       "<matplotlib.lines.Line2D at 0x1111f9320>"
      ]
     },
     "execution_count": 3,
     "metadata": {},
     "output_type": "execute_result"
    },
    {
     "data": {
      "image/png": "[encoded data removed]",
      "text/plain": [
       "<Figure size 864x432 with 1 Axes>"
      ]
     },
     "metadata": {},
     "output_type": "display_data"
    }
   ],
   "source": [
    "fig,ax = plt.subplots(figsize=(12,6))\n",
    "\n",
    "ax.plot(x,rv_A, alpha = 0.5, color = 'R', label = 'A')\n",
    "ax.plot(x,rv_B, alpha = 0.5, color = 'B', label = 'B')\n",
    "ax.legend()\n",
    "plt.xlabel('Conversion Count')\n",
    "plt.ylabel('PDF')\n",
    "plt.axvline(x=n_A*cr_A, linestyle = '--', c = 'grey')\n",
    "plt.axvline(x=n_B*cr_B, linestyle = '--', c = 'grey')"
   ]
  },
  {
   "cell_type": "markdown",
   "metadata": {},
   "source": [
    "Just by looking at the two binomial distributions, we can see that the experiment group is higher. Although this is a good start, let's dig deeper. First we will standardize the two distribution to a normal one.\n",
    "\n",
    "since this is a case of a Bernoulli distribution, we will have a case where the variance is equaled to:\n",
    "\n",
    "\\begin{align}\n",
    "\\ {\\sigma}^2 = \\mu(1-\\mu) \\\n",
    "\\end{align}\n",
    "\n",
    "since this for our sample, we will approximate the population proportion with our sample proportion\n",
    "\n",
    "\\begin{align}\n",
    "\\ {\\sigma}_\\bar{x}^2 = \\hat \\mu(1-\\hat \\mu) \\\n",
    "\\end{align}\n",
    "\n",
    "population standard deviation will be \n",
    "\n",
    "\\begin{align}\n",
    "\\ {\\sigma} = {\\sqrt{\\mu(1-\\mu)}} \\\n",
    "\\end{align}\n",
    "\n",
    "since we are dealing with the sampling mean, we will divide the standard deviation by the number of the sample.\n",
    "\n",
    "\\begin{align}\n",
    "\\ \\hat{\\sigma}_\\bar{x} = \\frac{\\sqrt{\\hat \\mu(1-\\hat \\mu)}}{n} \\\n",
    "\\end{align}\n",
    "\n",
    "In addition, according to the CLT (Central Limit Theorm), if we take a bunch of samples, X of size n, and take the mean of it, it will approximate the true population mean and standard deviation.\n",
    "\n",
    "We will take these theorm and put it to use."
   ]
  },
  {
   "cell_type": "code",
   "execution_count": 4,
   "metadata": {},
   "outputs": [
    {
     "name": "stdout",
     "output_type": "stream",
     "text": [
      "The variance for Group A: 3.1599631603621455e-05\n",
      "The variance for Group B: 5.185280806288648e-05\n"
     ]
    }
   ],
   "source": [
    "var_A = cr_A * (1-cr_A)/n_A\n",
    "var_B = cr_B * (1-cr_B)/n_B\n",
    "\n",
    "print('The variance for Group A: {0}'.format(var_A))\n",
    "print('The variance for Group B: {0}'.format(var_B))"
   ]
  },
  {
   "cell_type": "markdown",
   "metadata": {},
   "source": [
    "Our next step will be to pool the two groups and figure out if our difference in Groups A and B were by chance.\n",
    "\n",
    "Following the Random Variable of Normalization, we get the following\n",
    "\n",
    "\\begin{align}\n",
    "\\ \\hat d = \\hat \\mu_B - \\hat \\mu_A \\\n",
    "\\end{align}\n",
    "\n",
    "\\begin{align*}\n",
    "\\ {\\sigma}^2_P = {\\sigma}^2_A + {\\sigma}^2_A \\\n",
    "\\end{align*}\n",
    "\n",
    "\n",
    "and essentially, the standard deviation will be just the squared root of the variance"
   ]
  },
  {
   "cell_type": "code",
   "execution_count": 5,
   "metadata": {},
   "outputs": [
    {
     "name": "stdout",
     "output_type": "stream",
     "text": [
      "The d_hat value is: 0.02260972365893306\n",
      "pooled standard deviation is: 0.009135230684909273\n"
     ]
    }
   ],
   "source": [
    "d_hat = cr_B-cr_A\n",
    "std_P = np.sqrt(var_A+var_B)\n",
    "\n",
    "print('The d_hat value is: {0}\\npooled standard deviation is: {1}'.format(d_hat,std_P))"
   ]
  },
  {
   "cell_type": "markdown",
   "metadata": {},
   "source": [
    "Now we state the Null and alternative hypothesis:<br>\n",
    "\n",
    "\n",
    "**Null Hypthoesis**: The different mean conversion rate between the two groups are the same<br>\n",
    "\n",
    "**Alternative Hypothesis**: The different mean conversion rate between the two groups is not the same <br>\n",
    "\n",
    "Using a confidence interval of 95%, we want our alpha to be 5%. Since this is the standard threshold statisticians use, we will do the same"
   ]
  },
  {
   "cell_type": "code",
   "execution_count": 6,
   "metadata": {},
   "outputs": [
    {
     "name": "stdout",
     "output_type": "stream",
     "text": [
      "Z-Score: 2.475003033725536\n",
      "P-Value: 0.00666175220426807\n"
     ]
    }
   ],
   "source": [
    "Z = d_hat/std_P\n",
    "p_score = scs.norm.sf(Z)\n",
    "\n",
    "print('Z-Score: {0}\\nP-Value: {1}'.format(Z,p_score))"
   ]
  },
  {
   "cell_type": "code",
   "execution_count": 7,
   "metadata": {},
   "outputs": [
    {
     "data": {
      "text/plain": [
       "<matplotlib.lines.Line2D at 0x1114279e8>"
      ]
     },
     "execution_count": 7,
     "metadata": {},
     "output_type": "execute_result"
    },
    {
     "data": {
      "image/png": "[encoded data removed]",
      "text/plain": [
       "<Figure size 864x432 with 1 Axes>"
      ]
     },
     "metadata": {},
     "output_type": "display_data"
    }
   ],
   "source": [
    "x = np.linspace(-0.1,0.1,100)\n",
    "h_null = scs.norm(0,std_P).pdf(x)\n",
    "h_hypothesis = scs.norm(d_hat,std_P).pdf(x)\n",
    "\n",
    "fig,ax = plt.subplots(figsize=(12,6))\n",
    "\n",
    "ax.plot(x, h_null, alpha = 0.5, color = 'R', label = 'Null Hypothesis')\n",
    "\n",
    "ax.plot(x, h_hypothesis, alpha = 0.5, color = 'B', label = 'Alternative Hypothesis')\n",
    "ax.legend()\n",
    "plt.xlabel('Conversion Probability')\n",
    "plt.ylabel('PDF')\n",
    "plt.axvline(x=1.96*std_P, linestyle = '--', c = 'grey')\n",
    "plt.axvline(x=Z*std_P, c = 'red')"
   ]
  },
  {
   "cell_type": "markdown",
   "metadata": {},
   "source": [
    "Our Confidence interval is indicated by the dotted line with a value of 1.96 times the pooled standard deviation (0.0179). Our Z-score comes out to 2.475 times the pooled standard deviation (0.0226), noted by the red verticle line. <br>\n",
    "\n",
    "The outcome of more conversions, assuming the null hypothesis is true, has a p-value of 0.00666 which is well below 0.05. This is enough evidence to reject the null hypothesis and accept the alternative hypothesis. \n",
    "<br>\n",
    "\n",
    "A few things to note is that the power of signaficance level wasn't calculated. So we will do that next to see if it's above the 0.8 threshold."
   ]
  },
  {
   "cell_type": "code",
   "execution_count": 8,
   "metadata": {},
   "outputs": [
    {
     "name": "stdout",
     "output_type": "stream",
     "text": [
      "Power = 0.6969177515623455\n"
     ]
    }
   ],
   "source": [
    "power = scs.norm.sf((0.0179-d_hat)/std_P)\n",
    "print('Power =', power)"
   ]
  },
  {
   "cell_type": "markdown",
   "metadata": {},
   "source": [
    "Since we have a power of 0.6969, it's not a clean observation. To raise this value to 0.8, we can increase the sample size to narrow the variance, but that will cost more time and money. <br>\n",
    "\n",
    "This is something that the business may have to ponder about...\n",
    "<br>\n",
    "However, let's go ahead and increase our sample size by 2 times and see what our results are (just for the sake of it)"
   ]
  },
  {
   "cell_type": "code",
   "execution_count": 9,
   "metadata": {},
   "outputs": [
    {
     "name": "stdout",
     "output_type": "stream",
     "text": [
      "The new variance for Group A: 1.5799815801810727e-05\n",
      "The new variance for Group B: 2.592640403144324e-05\n"
     ]
    }
   ],
   "source": [
    "var_A_new = cr_A * (1-cr_A)/(n_A*2)\n",
    "var_B_new = cr_B * (1-cr_B)/(n_B*2)\n",
    "\n",
    "print('The new variance for Group A: {0}'.format(var_A_new))\n",
    "print('The new variance for Group B: {0}'.format(var_B_new))"
   ]
  },
  {
   "cell_type": "code",
   "execution_count": 10,
   "metadata": {},
   "outputs": [
    {
     "name": "stdout",
     "output_type": "stream",
     "text": [
      "The d_hat value is: 0.02260972365893306\n",
      "new pooled standard deviation is: 0.006459583565002775\n"
     ]
    }
   ],
   "source": [
    "std_P_new = np.sqrt(var_A_new+var_B_new)\n",
    "\n",
    "print('The d_hat value is: {0}\\nnew pooled standard deviation is: {1}'.format(d_hat,std_P_new))"
   ]
  },
  {
   "cell_type": "code",
   "execution_count": 11,
   "metadata": {},
   "outputs": [
    {
     "name": "stdout",
     "output_type": "stream",
     "text": [
      "Z-Score: 3.5001828572092086\n",
      "P-Value: 0.0002324695537678778\n"
     ]
    }
   ],
   "source": [
    "Z_new = d_hat/std_P_new\n",
    "p_score_new = 1- scs.norm.cdf(Z_new)\n",
    "\n",
    "print('Z-Score: {0}\\nP-Value: {1}'.format(Z_new,p_score_new))"
   ]
  },
  {
   "cell_type": "code",
   "execution_count": 12,
   "metadata": {},
   "outputs": [
    {
     "name": "stdout",
     "output_type": "stream",
     "text": [
      "Power = 0.9382421063367492\n"
     ]
    }
   ],
   "source": [
    "power_new = scs.norm.sf((1.96*std_P_new-d_hat)/std_P_new)\n",
    "print('Power =', power_new)"
   ]
  },
  {
   "cell_type": "markdown",
   "metadata": {},
   "source": [
    "Immediately, we see a rise in power."
   ]
  }
 ],
 "metadata": {
  "kernelspec": {
   "display_name": "Python 3",
   "language": "python",
   "name": "python3"
  },
  "language_info": {
   "codemirror_mode": {
    "name": "ipython",
    "version": 3
   },
   "file_extension": ".py",
   "mimetype": "text/x-python",
   "name": "python",
   "nbconvert_exporter": "python",
   "pygments_lexer": "ipython3",
   "version": "3.6.5"
  }
 },
 "nbformat": 4,
 "nbformat_minor": 2
}
